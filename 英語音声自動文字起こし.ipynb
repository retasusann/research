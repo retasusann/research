{
  "cells": [
    {
      "cell_type": "code",
      "execution_count": null,
      "metadata": {
        "id": "iOs6GBtfu3IM"
      },
      "outputs": [],
      "source": [
        "!pip install git+https://github.com/openai/whisper.git"
      ]
    },
    {
      "cell_type": "markdown",
      "metadata": {
        "id": "JadrNaQ26Kou"
      },
      "source": [
        "tiny(39M)    base(76M)     small(244M)\n",
        "medium(769M)     large(1550M)"
      ]
    },
    {
      "cell_type": "code",
      "execution_count": null,
      "metadata": {
        "id": "5cXNJRdNvRea"
      },
      "outputs": [],
      "source": [
        "import whisper"
      ]
    },
    {
      "cell_type": "code",
      "source": [
        "model=whisper.load_model('base.en')\n",
        "#翻訳の精度が悪い場合は、ノイズを削除したファイルを用意するとよい。\n",
        "result=model.transcribe('mp3形式のファイルを選択')\n",
        "print(result['text'])"
      ],
      "metadata": {
        "id": "Kuswx4vHxGum"
      },
      "execution_count": null,
      "outputs": []
    },
    {
      "cell_type": "code",
      "execution_count": null,
      "metadata": {
        "id": "c8d_XiBzS24M"
      },
      "outputs": [],
      "source": [
        "#翻訳したものをファイルで保存し忘れたため、力技でliteralに入れていく。\n",
        " literal_1=\"翻訳した文章\""
      ]
    },
    {
      "cell_type": "code",
      "execution_count": null,
      "metadata": {
        "id": "8DtYF0Gi_Ovm"
      },
      "outputs": [],
      "source": [
        "!pip install nltk\n",
        "import nltk\n",
        "nltk.download('punkt')"
      ]
    },
    {
      "cell_type": "code",
      "execution_count": null,
      "metadata": {
        "id": "cRFXwPUEB33o"
      },
      "outputs": [],
      "source": [
        "!python -m nltk.downloader stopwords"
      ]
    },
    {
      "cell_type": "code",
      "execution_count": null,
      "metadata": {
        "id": "gKw-mIyp2VGq"
      },
      "outputs": [],
      "source": [
        "from wordcloud import WordCloud\n",
        "from nltk.corpus import stopwords"
      ]
    },
    {
      "cell_type": "code",
      "execution_count": null,
      "metadata": {
        "id": "2H0qgDET8uFY"
      },
      "outputs": [],
      "source": [
        "nltk.download('stopwords')\n",
        "stop_words=set(stopwords.words('english'))\n",
        "\n",
        "text_1=nltk.word_tokenize(literal_1)\n",
        "\n",
        "filter_1=[word for word in text_1 if word not in stop_word]\n",
        "wordcloud=WordCloud(background_color='white',width=800,height=600).generate(\"\".join(filter_1))\n",
        "wordcloud.to_image()\n"
      ]
    },
    {
      "cell_type": "code",
      "execution_count": null,
      "metadata": {
        "id": "VYMawnFS7pps"
      },
      "outputs": [],
      "source": [
        "model=whisper.load_model('small')\n",
        "result=model.transcribe('mp3形式のファイルを選択')\n",
        "print(result['text'])"
      ]
    },
    {
      "cell_type": "code",
      "execution_count": null,
      "metadata": {
        "id": "yvId8yWwDemF"
      },
      "outputs": [],
      "source": [
        "literal_2=\"翻訳した文章\""
      ]
    },
    {
      "cell_type": "code",
      "execution_count": null,
      "metadata": {
        "id": "8RkeFs7QDMkc"
      },
      "outputs": [],
      "source": [
        "nltk.download('stopwords')\n",
        "stop_words=set(stopwords.words('english'))\n",
        "delete = {\"Okay\",\"I\",\"'ll\",\"'ve\",\"But\",\"They\",\"That\",\"And\",\"okay\",\"At\",\"This\",\"Maybe\",\"Ya\",\"one\",\"One\",\"We\",\"we\",\"As\",\"So\", \"Yes\", \"Yeah\", \"Sure\", \"Oh\",\"yes\",\"yeah\",\"Alright\",\"fine\",\"Thank\"}\n",
        "text_2=nltk.word_tokenize(literal_2)\n",
        "filter_2=[word for word in text_2 if word not in stop_words.union(delete)]\n",
        "wordcloud=WordCloud(background_color='white',width=800,height=600).generate(\"\".join(filter_2))\n",
        "wordcloud.to_image()"
      ]
    },
    {
      "cell_type": "code",
      "execution_count": null,
      "metadata": {
        "id": "PlTWBECNVyK1"
      },
      "outputs": [],
      "source": [
        "model=whisper.load_model('small')\n",
        "result=model.transcribe('mp3形式のファイルを選択')\n",
        "print(result['text'])"
      ]
    },
    {
      "cell_type": "code",
      "execution_count": null,
      "metadata": {
        "id": "EMUK8JviQuJ-"
      },
      "outputs": [],
      "source": [
        "literal_3=\"翻訳した文章\""
      ]
    },
    {
      "cell_type": "code",
      "execution_count": null,
      "metadata": {
        "id": "Xf4kp-3TQ43e"
      },
      "outputs": [],
      "source": [
        "nltk.download('stopwords')\n",
        "stop_words=set(stopwords.words('english'))\n",
        "delete=[\"One\",\"At\",\"But\",\"And\",\"We\",\"okay\",\"By\",\"also\",\"As\",\"one\",\"ok\", \"I\",\"What\",\"three\",\"Okay\",\"Yes\",\"Yeah\",\"Sure\",\"oh\",\"yes\",\"yeah\",\"Alright\",\"fine\",\"Forexample\",\"example\"]\n",
        "text_3=nltk.word_tokenize(literal_3)\n",
        "filter_3=[word for word in text_3 if word not in stop_words.union(delete)]\n",
        "wordcloud=WordCloud(background_color='white',width=800,height=600).generate(\"\".join(filter_3))\n",
        "wordcloud.to_image()"
      ]
    },
    {
      "cell_type": "code",
      "execution_count": null,
      "metadata": {
        "colab": {
          "background_save": true
        },
        "id": "jH7sWP6zZ7j3"
      },
      "outputs": [],
      "source": [
        "model=whisper.load_model('large')\n",
        "result=model.transcribe('mp3形式のファイルを選択')\n",
        "print(result['text'])"
      ]
    },
    {
      "cell_type": "code",
      "execution_count": null,
      "metadata": {
        "id": "raQQ_9GaVWUs"
      },
      "outputs": [],
      "source": [
        "literal_4=\"翻訳した文章\""
      ]
    },
    {
      "cell_type": "code",
      "execution_count": null,
      "metadata": {
        "id": "ikS9sYQzVzGt"
      },
      "outputs": [],
      "source": [
        "nltk.download('stopwords')\n",
        "stop_words=set(stopwords.words('english'))\n",
        "delete = {\"Okay\", \"Yes\", \"Yeah\",\"We\",\"The\",\"So\",\"so\",\"one\",\"for\",\"school\",\"example\",\"For\",\"And\",\"Sure\", \"Oh\",\"yes\",\"yeah\",\"oh\",\"Forexample\",\"ah\",\"everything\"}\n",
        "text_4=nltk.word_tokenize(literal_4)\n",
        "filter_4=[word for word in text_4 if word not in stop_words.union(delete)]\n",
        "wordcloud=WordCloud(background_color='white',width=800,height=600).generate(\"\".join(filter_4))\n",
        "wordcloud.to_image()\n"
      ]
    },
    {
      "cell_type": "code",
      "execution_count": null,
      "metadata": {
        "id": "9-3nxTv0Z_6w"
      },
      "outputs": [],
      "source": [
        "model=whisper.load_model('small')\n",
        "result=model.transcribe('mp3形式のファイルを選択')\n",
        "print(result['text'])"
      ]
    },
    {
      "cell_type": "code",
      "execution_count": null,
      "metadata": {
        "id": "qa9j03AmcgHG"
      },
      "outputs": [],
      "source": [
        "literal_5=\"翻訳した文章\""
      ]
    },
    {
      "cell_type": "code",
      "execution_count": null,
      "metadata": {
        "id": "gJsCLEvMdgjB"
      },
      "outputs": [],
      "source": [
        "nltk.download('stopwords')\n",
        "stop_words=set(stopwords.words('english'))\n",
        "delete = {\"Okay\", \"Yes\", \"So\",\"This\",\"very\",\"What\",\"We\",\"Yeah\",\"The\",\"And\",\"nine\",\"You\", \"Sure\", \"Oh\",\"four\",\"yes\",\"yeah\",\"Alright\",\"Thank\",\"Now\",\"okay\",\"really\",\"rarely\",\"fine\"}\n",
        "text_5=nltk.word_tokenize(literal_5)\n",
        "filter_5=[word for word in text_5 if word not in stop_words.union(delete)]\n",
        "wordcloud=WordCloud(background_color='white',width=800,height=600).generate(\"\".join(filter_5))\n",
        "wordcloud.to_image()\n"
      ]
    },
    {
      "cell_type": "code",
      "execution_count": null,
      "metadata": {
        "id": "W6LK69UtiRYB"
      },
      "outputs": [],
      "source": [
        "literal=literal_1+literal_2+literal_3+literal_4+literal_5"
      ]
    },
    {
      "cell_type": "code",
      "execution_count": null,
      "metadata": {
        "id": "4Bd6LYq11XOs"
      },
      "outputs": [],
      "source": [
        "delete_1 = {\"Okay\",\"Sorry\",\"First\",\"I\",\"Hmm\",\"hmm\",\"There\",\"What\",\"S\",\"ok\",\"So\",\"so\",\"s\", \"The\",\"And\",\"also\",\"ing\",\"school\",\"Yes\",\"example\",\"All\",\"right\",\"of\",\"Of\",\"course\", \"Yeah\", \"Sure\", \"Oh\",\"Ya\",\"yes\",\"yeah\",\"Alright\",\"Thank\",\"Now\",\"okay\",\"fine\",\"One\",\"Forexample\",\"ah\",\"really\",\"Youknow\",\"know\",\"Ofcourse\",\"Allright\",\"thank\",\"much\",\"one\",\" Ofcourse\",\"Of course\",\"All right\",\"For example\",\"ofcourse\",\"allright\"}"
      ]
    },
    {
      "cell_type": "code",
      "execution_count": null,
      "metadata": {
        "id": "BLG5VldVxXpo"
      },
      "outputs": [],
      "source": [
        "import nltk\n",
        "from wordcloud import WordCloud\n",
        "from nltk.corpus import stopwords\n",
        "nltk.download('stopwords')\n",
        "stop_word=set(stopwords.words('english'))\n",
        "\n",
        "stopwords_list=stop_words.union(delete_1)\n",
        "text=nltk.word_tokenize(literal)\n",
        "filter=[word for word in text if word not in stopwords_list]\n",
        "wordcloud=WordCloud(background_color='white',width=800,height=600).generate(\"\".join(filter))\n",
        "wordcloud.to_image()"
      ]
    }
  ],
  "metadata": {
    "colab": {
      "provenance": [],
      "mount_file_id": "1ex0ScnhZQSQ23i3OfQQSjv49AUdSZjzz",
      "authorship_tag": "ABX9TyOA+HAFM96KmBKZuMzGAkM8"
    },
    "kernelspec": {
      "display_name": "Python 3",
      "name": "python3"
    },
    "language_info": {
      "name": "python"
    }
  },
  "nbformat": 4,
  "nbformat_minor": 0
}
