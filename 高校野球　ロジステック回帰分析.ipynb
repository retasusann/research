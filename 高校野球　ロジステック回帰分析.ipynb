{
  "nbformat": 4,
  "nbformat_minor": 0,
  "metadata": {
    "colab": {
      "provenance": [],
      "authorship_tag": "ABX9TyNSJojOLVEqrkPIlMGUjR2h",
      "include_colab_link": true
    },
    "kernelspec": {
      "name": "python3",
      "display_name": "Python 3"
    },
    "language_info": {
      "name": "python"
    }
  },
  "cells": [
    {
      "cell_type": "markdown",
      "metadata": {
        "id": "view-in-github",
        "colab_type": "text"
      },
      "source": [
        "<a href=\"https://colab.research.google.com/github/retasusann/research/blob/main/%E9%AB%98%E6%A0%A1%E9%87%8E%E7%90%83%E3%80%80%E3%83%AD%E3%82%B8%E3%82%B9%E3%83%86%E3%83%83%E3%82%AF%E5%9B%9E%E5%B8%B0%E5%88%86%E6%9E%90.ipynb\" target=\"_parent\"><img src=\"https://colab.research.google.com/assets/colab-badge.svg\" alt=\"Open In Colab\"/></a>"
      ]
    },
    {
      "cell_type": "code",
      "execution_count": null,
      "metadata": {
        "id": "NyaQWl5LbgyY"
      },
      "outputs": [],
      "source": [
        "import pandas as pd\n",
        "import statsmodels.api as sm\n",
        "from google.colab import files\n",
        "uploaded=files.upload()\n",
        "\n"
      ]
    },
    {
      "cell_type": "code",
      "source": [
        "df_baseball = pd.read_excel(uploaded['高校野球 変更ファイル.xlsx'])\n",
        "df_baseball"
      ],
      "metadata": {
        "id": "8hNttY--fw8b"
      },
      "execution_count": null,
      "outputs": []
    },
    {
      "cell_type": "markdown",
      "source": [
        "与四死球数"
      ],
      "metadata": {
        "id": "OcG03FUrFZ-B"
      }
    },
    {
      "cell_type": "code",
      "source": [
        "df_baseball=df_baseball.astype(int)"
      ],
      "metadata": {
        "id": "9k9IrmQnQ0uf"
      },
      "execution_count": null,
      "outputs": []
    },
    {
      "cell_type": "code",
      "source": [
        "df_win_bun=df_baseball['勝ちチームのバント数']\n",
        "df_def_bun=df_baseball['負けチームのバント数']\n",
        "df_win_err=df_baseball['勝ちチームのエラー数']\n",
        "df_def_err=df_baseball['負けチームのエラー数']\n",
        "df_win_yosi=df_baseball['勝ちチームの与四死球数']\n",
        "df_def_yosi=df_baseball['負けチームの与四死球数']\n",
        "df_bun=pd.concat([df_win_bun,df_def_bun]).reset_index(drop=True)\n",
        "df_err=pd.concat([df_win_err,df_def_err]).reset_index(drop=True)\n",
        "df_yosi=pd.concat([df_win_yosi,df_def_yosi]).reset_index(drop=True)\n"
      ],
      "metadata": {
        "id": "y2_ksoEbT-w-"
      },
      "execution_count": null,
      "outputs": []
    },
    {
      "cell_type": "code",
      "source": [
        "half_length=len(df_bun)//2\n",
        "y = [1]* half_length+ [0]*half_length\n",
        "\n",
        "\n",
        "X=pd.concat([df_bun,df_err,df_yosi],axis=1)\n",
        "\n",
        "# 応答変数と説明変数を設定\n",
        "\n",
        "logit_model = sm.Logit(y,sm.add_constant(X))\n",
        "result = logit_model.fit()\n",
        "print(result.summary())\n"
      ],
      "metadata": {
        "colab": {
          "base_uri": "https://localhost:8080/"
        },
        "id": "eUU042DhBcfT",
        "outputId": "0ef7bf00-7edc-4fcc-ecd9-a234bd095229"
      },
      "execution_count": null,
      "outputs": [
        {
          "output_type": "stream",
          "name": "stdout",
          "text": [
            "Optimization terminated successfully.\n",
            "         Current function value: 0.538504\n",
            "         Iterations 6\n",
            "                           Logit Regression Results                           \n",
            "==============================================================================\n",
            "Dep. Variable:                      y   No. Observations:                  200\n",
            "Model:                          Logit   Df Residuals:                      196\n",
            "Method:                           MLE   Df Model:                            3\n",
            "Date:                Sat, 13 Jan 2024   Pseudo R-squ.:                  0.2231\n",
            "Time:                        10:04:57   Log-Likelihood:                -107.70\n",
            "converged:                       True   LL-Null:                       -138.63\n",
            "Covariance Type:            nonrobust   LLR p-value:                 2.357e-13\n",
            "==============================================================================\n",
            "                 coef    std err          z      P>|z|      [0.025      0.975]\n",
            "------------------------------------------------------------------------------\n",
            "const          0.4964      0.406      1.223      0.221      -0.299       1.292\n",
            "0              0.6504      0.142      4.571      0.000       0.372       0.929\n",
            "1             -0.2631      0.112     -2.345      0.019      -0.483      -0.043\n",
            "2             -0.2804      0.074     -3.804      0.000      -0.425      -0.136\n",
            "==============================================================================\n"
          ]
        }
      ]
    },
    {
      "cell_type": "markdown",
      "source": [],
      "metadata": {
        "id": "d6AXXZ-2GUqi"
      }
    }
  ]
}